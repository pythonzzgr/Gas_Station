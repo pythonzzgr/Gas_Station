{
 "cells": [
  {
   "cell_type": "code",
   "execution_count": 33,
   "id": "611f679a-8b06-45ba-b080-651377203499",
   "metadata": {},
   "outputs": [],
   "source": [
    "import numpy as np\n",
    "import pandas as pd\n",
    "import matplotlib.pyplot as plt\n",
    "import seaborn as sns\n",
    "\n",
    "import matplotlib\n",
    "import matplotlib.font_manager as fm\n",
    "\n",
    "import matplotlib.pyplot as plt\n",
    "from matplotlib import rc  \n",
    "rc('font', family='AppleGothic') \t\n",
    "plt.rcParams['axes.unicode_minus'] = False   "
   ]
  },
  {
   "cell_type": "code",
   "execution_count": 34,
   "id": "6dedc70a-4f5e-465d-94ab-ce395f59b5a3",
   "metadata": {},
   "outputs": [
    {
     "data": {
      "text/html": [
       "<div>\n",
       "<style scoped>\n",
       "    .dataframe tbody tr th:only-of-type {\n",
       "        vertical-align: middle;\n",
       "    }\n",
       "\n",
       "    .dataframe tbody tr th {\n",
       "        vertical-align: top;\n",
       "    }\n",
       "\n",
       "    .dataframe thead th {\n",
       "        text-align: right;\n",
       "    }\n",
       "</style>\n",
       "<table border=\"1\" class=\"dataframe\">\n",
       "  <thead>\n",
       "    <tr style=\"text-align: right;\">\n",
       "      <th></th>\n",
       "      <th>구분</th>\n",
       "      <th>보통휘발유</th>\n",
       "      <th>자동차용경유</th>\n",
       "    </tr>\n",
       "  </thead>\n",
       "  <tbody>\n",
       "    <tr>\n",
       "      <th>0</th>\n",
       "      <td>2019년01월01일</td>\n",
       "      <td>1375.08</td>\n",
       "      <td>1272.42</td>\n",
       "    </tr>\n",
       "    <tr>\n",
       "      <th>1</th>\n",
       "      <td>2019년01월02일</td>\n",
       "      <td>1371.58</td>\n",
       "      <td>1269.20</td>\n",
       "    </tr>\n",
       "    <tr>\n",
       "      <th>2</th>\n",
       "      <td>2019년01월03일</td>\n",
       "      <td>1367.67</td>\n",
       "      <td>1265.31</td>\n",
       "    </tr>\n",
       "    <tr>\n",
       "      <th>3</th>\n",
       "      <td>2019년01월04일</td>\n",
       "      <td>1363.93</td>\n",
       "      <td>1261.82</td>\n",
       "    </tr>\n",
       "    <tr>\n",
       "      <th>4</th>\n",
       "      <td>2019년01월05일</td>\n",
       "      <td>1361.02</td>\n",
       "      <td>1258.88</td>\n",
       "    </tr>\n",
       "    <tr>\n",
       "      <th>...</th>\n",
       "      <td>...</td>\n",
       "      <td>...</td>\n",
       "      <td>...</td>\n",
       "    </tr>\n",
       "    <tr>\n",
       "      <th>1368</th>\n",
       "      <td>2022년09월30일</td>\n",
       "      <td>1688.30</td>\n",
       "      <td>1826.08</td>\n",
       "    </tr>\n",
       "    <tr>\n",
       "      <th>1369</th>\n",
       "      <td>2022년10월01일</td>\n",
       "      <td>1682.04</td>\n",
       "      <td>1822.01</td>\n",
       "    </tr>\n",
       "    <tr>\n",
       "      <th>1370</th>\n",
       "      <td>2022년10월02일</td>\n",
       "      <td>1679.84</td>\n",
       "      <td>1820.55</td>\n",
       "    </tr>\n",
       "    <tr>\n",
       "      <th>1371</th>\n",
       "      <td>2022년10월03일</td>\n",
       "      <td>1677.55</td>\n",
       "      <td>1820.83</td>\n",
       "    </tr>\n",
       "    <tr>\n",
       "      <th>1372</th>\n",
       "      <td>2022년10월04일</td>\n",
       "      <td>1674.38</td>\n",
       "      <td>1817.56</td>\n",
       "    </tr>\n",
       "  </tbody>\n",
       "</table>\n",
       "<p>1373 rows × 3 columns</p>\n",
       "</div>"
      ],
      "text/plain": [
       "               구분    보통휘발유   자동차용경유\n",
       "0     2019년01월01일  1375.08  1272.42\n",
       "1     2019년01월02일  1371.58  1269.20\n",
       "2     2019년01월03일  1367.67  1265.31\n",
       "3     2019년01월04일  1363.93  1261.82\n",
       "4     2019년01월05일  1361.02  1258.88\n",
       "...           ...      ...      ...\n",
       "1368  2022년09월30일  1688.30  1826.08\n",
       "1369  2022년10월01일  1682.04  1822.01\n",
       "1370  2022년10월02일  1679.84  1820.55\n",
       "1371  2022년10월03일  1677.55  1820.83\n",
       "1372  2022년10월04일  1674.38  1817.56\n",
       "\n",
       "[1373 rows x 3 columns]"
      ]
     },
     "execution_count": 34,
     "metadata": {},
     "output_type": "execute_result"
    }
   ],
   "source": [
    "df = pd.read_csv(\"./basic/stations_E.csv\",encoding='cp949')\n",
    "df"
   ]
  },
  {
   "cell_type": "code",
   "execution_count": 37,
   "id": "ced8e9d0-dfc4-4eec-927c-ddd2546cd3fa",
   "metadata": {},
   "outputs": [],
   "source": [
    "# 연도 컬럼 만들기\n",
    "df = df.rename(columns={\"구분\":\"날짜\"})\n",
    "df['연도'] = df['날짜'].str.split('년').apply(lambda x: x[:6])\n",
    "df['연도'] = df['연도'].apply(lambda x: x[0])\n",
    "# df.to_csv(\"annual.csv\")"
   ]
  },
  {
   "cell_type": "code",
   "execution_count": 38,
   "id": "29560b4d-a368-4c93-b966-0b377759a749",
   "metadata": {},
   "outputs": [
    {
     "data": {
      "text/html": [
       "<div>\n",
       "<style scoped>\n",
       "    .dataframe tbody tr th:only-of-type {\n",
       "        vertical-align: middle;\n",
       "    }\n",
       "\n",
       "    .dataframe tbody tr th {\n",
       "        vertical-align: top;\n",
       "    }\n",
       "\n",
       "    .dataframe thead th {\n",
       "        text-align: right;\n",
       "    }\n",
       "</style>\n",
       "<table border=\"1\" class=\"dataframe\">\n",
       "  <thead>\n",
       "    <tr style=\"text-align: right;\">\n",
       "      <th></th>\n",
       "      <th>날짜</th>\n",
       "      <th>보통휘발유</th>\n",
       "      <th>자동차용경유</th>\n",
       "      <th>연도</th>\n",
       "      <th>일자</th>\n",
       "    </tr>\n",
       "  </thead>\n",
       "  <tbody>\n",
       "    <tr>\n",
       "      <th>0</th>\n",
       "      <td>2019년01월01일</td>\n",
       "      <td>1375.08</td>\n",
       "      <td>1272.42</td>\n",
       "      <td>2019</td>\n",
       "      <td>01월01일</td>\n",
       "    </tr>\n",
       "    <tr>\n",
       "      <th>1</th>\n",
       "      <td>2019년01월02일</td>\n",
       "      <td>1371.58</td>\n",
       "      <td>1269.20</td>\n",
       "      <td>2019</td>\n",
       "      <td>01월02일</td>\n",
       "    </tr>\n",
       "    <tr>\n",
       "      <th>2</th>\n",
       "      <td>2019년01월03일</td>\n",
       "      <td>1367.67</td>\n",
       "      <td>1265.31</td>\n",
       "      <td>2019</td>\n",
       "      <td>01월03일</td>\n",
       "    </tr>\n",
       "    <tr>\n",
       "      <th>3</th>\n",
       "      <td>2019년01월04일</td>\n",
       "      <td>1363.93</td>\n",
       "      <td>1261.82</td>\n",
       "      <td>2019</td>\n",
       "      <td>01월04일</td>\n",
       "    </tr>\n",
       "    <tr>\n",
       "      <th>4</th>\n",
       "      <td>2019년01월05일</td>\n",
       "      <td>1361.02</td>\n",
       "      <td>1258.88</td>\n",
       "      <td>2019</td>\n",
       "      <td>01월05일</td>\n",
       "    </tr>\n",
       "    <tr>\n",
       "      <th>...</th>\n",
       "      <td>...</td>\n",
       "      <td>...</td>\n",
       "      <td>...</td>\n",
       "      <td>...</td>\n",
       "      <td>...</td>\n",
       "    </tr>\n",
       "    <tr>\n",
       "      <th>1368</th>\n",
       "      <td>2022년09월30일</td>\n",
       "      <td>1688.30</td>\n",
       "      <td>1826.08</td>\n",
       "      <td>2022</td>\n",
       "      <td>09월30일</td>\n",
       "    </tr>\n",
       "    <tr>\n",
       "      <th>1369</th>\n",
       "      <td>2022년10월01일</td>\n",
       "      <td>1682.04</td>\n",
       "      <td>1822.01</td>\n",
       "      <td>2022</td>\n",
       "      <td>10월01일</td>\n",
       "    </tr>\n",
       "    <tr>\n",
       "      <th>1370</th>\n",
       "      <td>2022년10월02일</td>\n",
       "      <td>1679.84</td>\n",
       "      <td>1820.55</td>\n",
       "      <td>2022</td>\n",
       "      <td>10월02일</td>\n",
       "    </tr>\n",
       "    <tr>\n",
       "      <th>1371</th>\n",
       "      <td>2022년10월03일</td>\n",
       "      <td>1677.55</td>\n",
       "      <td>1820.83</td>\n",
       "      <td>2022</td>\n",
       "      <td>10월03일</td>\n",
       "    </tr>\n",
       "    <tr>\n",
       "      <th>1372</th>\n",
       "      <td>2022년10월04일</td>\n",
       "      <td>1674.38</td>\n",
       "      <td>1817.56</td>\n",
       "      <td>2022</td>\n",
       "      <td>10월04일</td>\n",
       "    </tr>\n",
       "  </tbody>\n",
       "</table>\n",
       "<p>1373 rows × 5 columns</p>\n",
       "</div>"
      ],
      "text/plain": [
       "               날짜    보통휘발유   자동차용경유    연도      일자\n",
       "0     2019년01월01일  1375.08  1272.42  2019  01월01일\n",
       "1     2019년01월02일  1371.58  1269.20  2019  01월02일\n",
       "2     2019년01월03일  1367.67  1265.31  2019  01월03일\n",
       "3     2019년01월04일  1363.93  1261.82  2019  01월04일\n",
       "4     2019년01월05일  1361.02  1258.88  2019  01월05일\n",
       "...           ...      ...      ...   ...     ...\n",
       "1368  2022년09월30일  1688.30  1826.08  2022  09월30일\n",
       "1369  2022년10월01일  1682.04  1822.01  2022  10월01일\n",
       "1370  2022년10월02일  1679.84  1820.55  2022  10월02일\n",
       "1371  2022년10월03일  1677.55  1820.83  2022  10월03일\n",
       "1372  2022년10월04일  1674.38  1817.56  2022  10월04일\n",
       "\n",
       "[1373 rows x 5 columns]"
      ]
     },
     "execution_count": 38,
     "metadata": {},
     "output_type": "execute_result"
    }
   ],
   "source": [
    "# 일자 컬럼만들기\n",
    "df['일자'] = df['날짜'].str.split('년').apply(lambda x: x[1])\n",
    "# df = df.drop(columns=['월별'])\n",
    "# df = df.reset_index()\n",
    "# df = df.drop(columns=['level_0','index'])\n",
    "df"
   ]
  },
  {
   "cell_type": "code",
   "execution_count": 48,
   "id": "49323a98-859b-4882-a851-55bbf1025eb4",
   "metadata": {},
   "outputs": [],
   "source": [
    "df['월별'] = df['일자'].str.split('월').apply(lambda x: x[0])"
   ]
  },
  {
   "cell_type": "code",
   "execution_count": 49,
   "id": "f6a29ff1-32e6-43e3-8738-4ad64df8aac1",
   "metadata": {
    "tags": []
   },
   "outputs": [
    {
     "name": "stdout",
     "output_type": "stream",
     "text": [
      "<class 'pandas.core.frame.DataFrame'>\n",
      "RangeIndex: 1373 entries, 0 to 1372\n",
      "Data columns (total 6 columns):\n",
      " #   Column  Non-Null Count  Dtype  \n",
      "---  ------  --------------  -----  \n",
      " 0   날짜      1373 non-null   object \n",
      " 1   보통휘발유   1373 non-null   float64\n",
      " 2   자동차용경유  1373 non-null   float64\n",
      " 3   연도      1373 non-null   int64  \n",
      " 4   일자      1373 non-null   object \n",
      " 5   월별      1373 non-null   int64  \n",
      "dtypes: float64(2), int64(2), object(2)\n",
      "memory usage: 64.5+ KB\n"
     ]
    },
    {
     "data": {
      "text/html": [
       "<div>\n",
       "<style scoped>\n",
       "    .dataframe tbody tr th:only-of-type {\n",
       "        vertical-align: middle;\n",
       "    }\n",
       "\n",
       "    .dataframe tbody tr th {\n",
       "        vertical-align: top;\n",
       "    }\n",
       "\n",
       "    .dataframe thead th {\n",
       "        text-align: right;\n",
       "    }\n",
       "</style>\n",
       "<table border=\"1\" class=\"dataframe\">\n",
       "  <thead>\n",
       "    <tr style=\"text-align: right;\">\n",
       "      <th></th>\n",
       "      <th>날짜</th>\n",
       "      <th>보통휘발유</th>\n",
       "      <th>자동차용경유</th>\n",
       "      <th>연도</th>\n",
       "      <th>일자</th>\n",
       "      <th>월별</th>\n",
       "    </tr>\n",
       "  </thead>\n",
       "  <tbody>\n",
       "    <tr>\n",
       "      <th>0</th>\n",
       "      <td>2019년01월01일</td>\n",
       "      <td>1375.08</td>\n",
       "      <td>1272.42</td>\n",
       "      <td>2019</td>\n",
       "      <td>01월01일</td>\n",
       "      <td>1</td>\n",
       "    </tr>\n",
       "    <tr>\n",
       "      <th>1</th>\n",
       "      <td>2019년01월02일</td>\n",
       "      <td>1371.58</td>\n",
       "      <td>1269.20</td>\n",
       "      <td>2019</td>\n",
       "      <td>01월02일</td>\n",
       "      <td>1</td>\n",
       "    </tr>\n",
       "    <tr>\n",
       "      <th>2</th>\n",
       "      <td>2019년01월03일</td>\n",
       "      <td>1367.67</td>\n",
       "      <td>1265.31</td>\n",
       "      <td>2019</td>\n",
       "      <td>01월03일</td>\n",
       "      <td>1</td>\n",
       "    </tr>\n",
       "    <tr>\n",
       "      <th>3</th>\n",
       "      <td>2019년01월04일</td>\n",
       "      <td>1363.93</td>\n",
       "      <td>1261.82</td>\n",
       "      <td>2019</td>\n",
       "      <td>01월04일</td>\n",
       "      <td>1</td>\n",
       "    </tr>\n",
       "    <tr>\n",
       "      <th>4</th>\n",
       "      <td>2019년01월05일</td>\n",
       "      <td>1361.02</td>\n",
       "      <td>1258.88</td>\n",
       "      <td>2019</td>\n",
       "      <td>01월05일</td>\n",
       "      <td>1</td>\n",
       "    </tr>\n",
       "    <tr>\n",
       "      <th>...</th>\n",
       "      <td>...</td>\n",
       "      <td>...</td>\n",
       "      <td>...</td>\n",
       "      <td>...</td>\n",
       "      <td>...</td>\n",
       "      <td>...</td>\n",
       "    </tr>\n",
       "    <tr>\n",
       "      <th>1368</th>\n",
       "      <td>2022년09월30일</td>\n",
       "      <td>1688.30</td>\n",
       "      <td>1826.08</td>\n",
       "      <td>2022</td>\n",
       "      <td>09월30일</td>\n",
       "      <td>9</td>\n",
       "    </tr>\n",
       "    <tr>\n",
       "      <th>1369</th>\n",
       "      <td>2022년10월01일</td>\n",
       "      <td>1682.04</td>\n",
       "      <td>1822.01</td>\n",
       "      <td>2022</td>\n",
       "      <td>10월01일</td>\n",
       "      <td>10</td>\n",
       "    </tr>\n",
       "    <tr>\n",
       "      <th>1370</th>\n",
       "      <td>2022년10월02일</td>\n",
       "      <td>1679.84</td>\n",
       "      <td>1820.55</td>\n",
       "      <td>2022</td>\n",
       "      <td>10월02일</td>\n",
       "      <td>10</td>\n",
       "    </tr>\n",
       "    <tr>\n",
       "      <th>1371</th>\n",
       "      <td>2022년10월03일</td>\n",
       "      <td>1677.55</td>\n",
       "      <td>1820.83</td>\n",
       "      <td>2022</td>\n",
       "      <td>10월03일</td>\n",
       "      <td>10</td>\n",
       "    </tr>\n",
       "    <tr>\n",
       "      <th>1372</th>\n",
       "      <td>2022년10월04일</td>\n",
       "      <td>1674.38</td>\n",
       "      <td>1817.56</td>\n",
       "      <td>2022</td>\n",
       "      <td>10월04일</td>\n",
       "      <td>10</td>\n",
       "    </tr>\n",
       "  </tbody>\n",
       "</table>\n",
       "<p>1373 rows × 6 columns</p>\n",
       "</div>"
      ],
      "text/plain": [
       "               날짜    보통휘발유   자동차용경유    연도      일자  월별\n",
       "0     2019년01월01일  1375.08  1272.42  2019  01월01일   1\n",
       "1     2019년01월02일  1371.58  1269.20  2019  01월02일   1\n",
       "2     2019년01월03일  1367.67  1265.31  2019  01월03일   1\n",
       "3     2019년01월04일  1363.93  1261.82  2019  01월04일   1\n",
       "4     2019년01월05일  1361.02  1258.88  2019  01월05일   1\n",
       "...           ...      ...      ...   ...     ...  ..\n",
       "1368  2022년09월30일  1688.30  1826.08  2022  09월30일   9\n",
       "1369  2022년10월01일  1682.04  1822.01  2022  10월01일  10\n",
       "1370  2022년10월02일  1679.84  1820.55  2022  10월02일  10\n",
       "1371  2022년10월03일  1677.55  1820.83  2022  10월03일  10\n",
       "1372  2022년10월04일  1674.38  1817.56  2022  10월04일  10\n",
       "\n",
       "[1373 rows x 6 columns]"
      ]
     },
     "execution_count": 49,
     "metadata": {},
     "output_type": "execute_result"
    }
   ],
   "source": [
    "# 전처리\n",
    "df['연도']= df['연도'].astype(int)\n",
    "df['월별']= df['월별'].astype(int)\n",
    "df.info()\n",
    "df"
   ]
  },
  {
   "cell_type": "code",
   "execution_count": null,
   "id": "ca240fe9-dac0-4ccd-8d0b-6404d82f2117",
   "metadata": {},
   "outputs": [],
   "source": [
    "df['보통휘발유'].ㅕ"
   ]
  },
  {
   "cell_type": "code",
   "execution_count": 50,
   "id": "5ab0ad31-5625-45c8-bc10-d0a1768277ca",
   "metadata": {},
   "outputs": [
    {
     "data": {
      "text/plain": [
       "<Figure size 1440x2160 with 0 Axes>"
      ]
     },
     "metadata": {},
     "output_type": "display_data"
    },
    {
     "data": {
      "image/png": "[encoded data removed]",
      "text/plain": [
       "<Figure size 1440x360 with 4 Axes>"
      ]
     },
     "metadata": {
      "needs_background": "light"
     },
     "output_type": "display_data"
    }
   ],
   "source": [
    "# 유가변동 시각화로 나타내기\n",
    "plt.figure(figsize=(20,30))\n",
    "sns.catplot(data=df,x='월별',y='보통휘발유',kind='bar',col='연도')\n",
    "\n",
    "\n",
    "plt.savefig('연도별 가격비교_휘발유.png', dpi=100,facecolor='w',bbox_inches='tight')"
   ]
  },
  {
   "cell_type": "code",
   "execution_count": 11,
   "id": "16097412-92c4-4757-8310-419886339bf1",
   "metadata": {
    "collapsed": true,
    "jupyter": {
     "outputs_hidden": true,
     "source_hidden": true
    },
    "tags": []
   },
   "outputs": [
    {
     "data": {
      "text/plain": [
       "<Figure size 720x2160 with 0 Axes>"
      ]
     },
     "metadata": {},
     "output_type": "display_data"
    },
    {
     "data": {
      "image/png": "[encoded data removed]",
      "text/plain": [
       "<Figure size 1440x360 with 4 Axes>"
      ]
     },
     "metadata": {
      "needs_background": "light"
     },
     "output_type": "display_data"
    }
   ],
   "source": [
    "plt.figure(figsize=(10,30))\n",
    "sns.catplot(data=df,x='월별',y='자동차용경유',kind='bar',col='연도')\n",
    "plt.savefig('연도별 가격비교_경유.png', dpi=100,facecolor='w',bbox_inches='tight')"
   ]
  },
  {
   "cell_type": "code",
   "execution_count": 51,
   "id": "71361b98-58bc-4e51-9407-d57a266dfbf2",
   "metadata": {},
   "outputs": [
    {
     "data": {
      "text/plain": [
       "<Figure size 1440x2160 with 0 Axes>"
      ]
     },
     "metadata": {},
     "output_type": "display_data"
    },
    {
     "data": {
      "image/png": "[encoded data removed]",
      "text/plain": [
       "<Figure size 1440x360 with 4 Axes>"
      ]
     },
     "metadata": {
      "needs_background": "light"
     },
     "output_type": "display_data"
    }
   ],
   "source": [
    "plt.figure(figsize=(20,30))\n",
    "sns.catplot(data=df,x='월별',y='자동차용경유',kind='bar',col='연도')\n",
    "\n",
    "\n",
    "plt.savefig('연도별 가격비교_경유.png', dpi=100,facecolor='w',bbox_inches='tight')"
   ]
  },
  {
   "cell_type": "code",
   "execution_count": 109,
   "id": "c6a021b3-569b-478b-8e3d-aeb4c0dc56e4",
   "metadata": {},
   "outputs": [
    {
     "data": {
      "text/plain": [
       "48"
      ]
     },
     "execution_count": 109,
     "metadata": {},
     "output_type": "execute_result"
    }
   ],
   "source": [
    "len(day)\n"
   ]
  },
  {
   "cell_type": "code",
   "execution_count": null,
   "id": "9f2cf054-0273-4990-a45c-8c65ff2d63c2",
   "metadata": {},
   "outputs": [],
   "source": []
  }
 ],
 "metadata": {
  "kernelspec": {
   "display_name": "Python 3 (ipykernel)",
   "language": "python",
   "name": "python3"
  },
  "language_info": {
   "codemirror_mode": {
    "name": "ipython",
    "version": 3
   },
   "file_extension": ".py",
   "mimetype": "text/x-python",
   "name": "python",
   "nbconvert_exporter": "python",
   "pygments_lexer": "ipython3",
   "version": "3.9.12"
  }
 },
 "nbformat": 4,
 "nbformat_minor": 5
}
