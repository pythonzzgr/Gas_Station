{
 "cells": [
  {
   "cell_type": "code",
   "execution_count": 3,
   "id": "ac333ec2",
   "metadata": {},
   "outputs": [],
   "source": [
    "import os\n",
    "from selenium import webdriver\n",
    "from selenium.webdriver.common.by import By\n",
    "from selenium.webdriver.chrome.service import Service\n",
    "from selenium.webdriver.support.ui import Select\n",
    "\n",
    "from webdriver_manager.chrome import ChromeDriverManager\n",
    "import time\n",
    "from tqdm import tqdm\n"
   ]
  },
  {
   "cell_type": "code",
   "execution_count": null,
   "id": "96568da9-ae8a-4913-aa20-256623406613",
   "metadata": {},
   "outputs": [],
   "source": [
    "chromepath=\"/Users/zzgr/Desktop/zzgrSandaeteuk/PROJECT01/chromedriver\"\n",
    "\n",
    "\n",
    "driver = webdriver.Chrome(service=Service(chromepath))\n",
    "\n",
    "driver.get(\"http://www.opinet.co.kr/searRgSelect.do\")\n",
    "driver.get(\"http://www.opinet.co.kr/searRgSelect.do\")\n",
    "\n",
    "city= driver.find_element(By.XPATH,\"\"\"//*[@id=\"SIDO_NM0\"]\"\"\")\n",
    "time.sleep(1)\n",
    "city_list = city.find_elements(By.TAG_NAME,\"option\")\n",
    "city_names = []\n",
    "for option in city_list:\n",
    "    city_names.append(option.get_attribute(\"value\"))\n",
    "city_names.remove('')        \n",
    "# select = Select(city)\n",
    "for i in city_names:\n",
    "    city= driver.find_element(By.XPATH,\"\"\"//*[@id=\"SIDO_NM0\"]\"\"\")\n",
    "    city.send_keys(i)\n",
    "    time.sleep(1)\n",
    "    gu_list_raw = driver.find_element(By.XPATH,\"\"\"//*[@id=\"SIGUNGU_NM0\"]\"\"\")\n",
    "    time.sleep(1)\n",
    "    gu_list = gu_list_raw.find_elements(By.TAG_NAME,\"option\")\n",
    "\n",
    "    gu_names = []\n",
    "    for option in gu_list:\n",
    "        gu_names.append(option.get_attribute(\"value\"))      \n",
    "    gu_names.remove('')\n",
    "    # select = Select(gu_list_raw)\n",
    "    for j in gu_names:\n",
    "        gu_list_raw = driver.find_element(By.XPATH,\"\"\"//*[@id=\"SIGUNGU_NM0\"]\"\"\")\n",
    "        time.sleep(3) \n",
    "        gu_list_raw.send_keys(j)\n",
    "        time.sleep(3)\n",
    "        xpath = \"\"\"//*[@id=\"glopopd_excel\"]\"\"\"\n",
    "        driver.find_element(By.XPATH,xpath).click()\n",
    "        \n",
    "time.sleep(1)\n",
    "driver.close()"
   ]
  },
  {
   "cell_type": "code",
   "execution_count": null,
   "id": "9b385e05-84cf-4176-8a07-f7a7f8784d63",
   "metadata": {},
   "outputs": [],
   "source": [
    "import numpy as np\n",
    "import pandas as pd\n",
    "import matplotlib.pyplot as plt\n",
    "import seaborn as sns\n",
    "import matplotlib\n",
    "import matplotlib.font_manager as fm\n",
    "from matplotlib import rc\n",
    "\n",
    "rc('font', family='AppleGothic')\n",
    "plt.rcParams['axes.unicode_minus'] = False"
   ]
  },
  {
   "cell_type": "code",
   "execution_count": null,
   "id": "fcefc1f0-6e7e-4b7d-a794-562205ee7a79",
   "metadata": {
    "tags": []
   },
   "outputs": [],
   "source": [
    "import glob\n",
    "files = glob.glob(\"/Users/zzgr/Desktop/zzgrSandaeteuk/Datas\")\n",
    "files"
   ]
  },
  {
   "cell_type": "code",
   "execution_count": null,
   "id": "a091691b-42e1-4ce5-993d-dd69070b17b9",
   "metadata": {},
   "outputs": [],
   "source": [
    "file = []\n",
    "for i in files:\n",
    "    file.append(pd.read_excel(i))\n",
    "\n",
    "df = pd.concat(file)"
   ]
  },
  {
   "cell_type": "code",
   "execution_count": null,
   "id": "14364ffa-bb16-4e45-94dd-6425f4da646a",
   "metadata": {},
   "outputs": [],
   "source": [
    "df.reset_index(drop=True,inplace =True)"
   ]
  },
  {
   "cell_type": "code",
   "execution_count": null,
   "id": "00872677-3564-4f90-9f5f-a5a93ad43dcd",
   "metadata": {},
   "outputs": [],
   "source": [
    "df = df.dropna()\n",
    "df.reset_index(drop=True,inplace =True)\n",
    "df"
   ]
  },
  {
   "cell_type": "code",
   "execution_count": null,
   "id": "5e5d5adf-bfde-4a95-8110-7dec57c41c77",
   "metadata": {},
   "outputs": [],
   "source": [
    "pd.set_option('display.max_row',None)\n",
    "pd.set_option('display.max_columns', 500)"
   ]
  },
  {
   "cell_type": "code",
   "execution_count": null,
   "id": "07c2dcb8-f70e-480c-9f0a-83e3e0e52bb4",
   "metadata": {},
   "outputs": [],
   "source": [
    "df = df.drop_duplicates()"
   ]
  },
  {
   "cell_type": "code",
   "execution_count": null,
   "id": "ceb844a7-4b56-4a82-80fa-de6c7ec22ec0",
   "metadata": {},
   "outputs": [],
   "source": [
    "df.columns = [\"지역\",\"상호\",\"주소\",\"상표\",\"전화번호\",\"셀프여부\",\"고급휘발유\",\"휘발유\",\"경유\",\"실내등유\"]"
   ]
  },
  {
   "cell_type": "code",
   "execution_count": null,
   "id": "64fef3fd-5c2a-47fc-be26-483e44c2aaf2",
   "metadata": {},
   "outputs": [],
   "source": [
    "# df.drop(index=0,inplace =True)\n",
    "df.reset_index(drop=True, inplace = True)"
   ]
  },
  {
   "cell_type": "code",
   "execution_count": null,
   "id": "1fc7297d-dbcf-42db-bea5-b0536ee5bc66",
   "metadata": {},
   "outputs": [],
   "source": [
    "df"
   ]
  },
  {
   "cell_type": "code",
   "execution_count": null,
   "id": "4f5f0963",
   "metadata": {},
   "outputs": [],
   "source": []
  },
  {
   "cell_type": "code",
   "execution_count": null,
   "id": "0db02802",
   "metadata": {},
   "outputs": [],
   "source": []
  }
 ],
 "metadata": {
  "kernelspec": {
   "display_name": "Python 3.8.13 ('test')",
   "language": "python",
   "name": "python3"
  },
  "language_info": {
   "codemirror_mode": {
    "name": "ipython",
    "version": 3
   },
   "file_extension": ".py",
   "mimetype": "text/x-python",
   "name": "python",
   "nbconvert_exporter": "python",
   "pygments_lexer": "ipython3",
   "version": "3.8.13"
  },
  "vscode": {
   "interpreter": {
    "hash": "97e1d25581a04eac12591ae2002b5202d82171b363b803c6e671956903272463"
   }
  },
  "widgets": {
   "application/vnd.jupyter.widget-state+json": {
    "state": {},
    "version_major": 2,
    "version_minor": 0
   }
  }
 },
 "nbformat": 4,
 "nbformat_minor": 5
}
