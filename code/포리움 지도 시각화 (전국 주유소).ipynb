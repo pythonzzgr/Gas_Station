{
 "cells": [
  {
   "cell_type": "code",
   "execution_count": 2,
   "metadata": {},
   "outputs": [],
   "source": [
    "import requests\n",
    "import json\n",
    "import pandas as pd\n",
    "from pandas.io.json import json_normalize\n",
    "import os\n",
    "\n",
    "import folium\n",
    "from folium import plugins"
   ]
  },
  {
   "cell_type": "code",
   "execution_count": 3,
   "metadata": {},
   "outputs": [],
   "source": [
    "import pandas as pd\n"
   ]
  },
  {
   "cell_type": "code",
   "execution_count": 5,
   "metadata": {},
   "outputs": [],
   "source": [
    "df = pd.read_csv('/Users/zzgr/Desktop/zzgrSandaeteuk/PROJECT GAS STATION/\b데이터/정리 데이터/주유소 데이터 위도 경도 추가본.csv')"
   ]
  },
  {
   "cell_type": "code",
   "execution_count": 6,
   "metadata": {},
   "outputs": [
    {
     "data": {
      "text/plain": [
       "array(['현대오일뱅크', 'SK에너지', 'GS칼텍스', 'S-OIL', '자가상표', '알뜰(ex)', '알뜰주유소',\n",
       "       'NH-OIL'], dtype=object)"
      ]
     },
     "execution_count": 6,
     "metadata": {},
     "output_type": "execute_result"
    }
   ],
   "source": [
    "df['상표'].unique()"
   ]
  },
  {
   "cell_type": "code",
   "execution_count": 7,
   "metadata": {},
   "outputs": [],
   "source": [
    "df.drop(columns='Unnamed: 0',inplace=True)"
   ]
  },
  {
   "cell_type": "code",
   "execution_count": 8,
   "metadata": {},
   "outputs": [],
   "source": [
    "latitude = df['lat']\n",
    "longitude = df['long']"
   ]
  },
  {
   "cell_type": "code",
   "execution_count": 9,
   "metadata": {},
   "outputs": [],
   "source": [
    "main_location = (37.5722440, 126.9759352)\n",
    "m = folium.Map(location=main_location, zoom_start=15)"
   ]
  },
  {
   "cell_type": "code",
   "execution_count": null,
   "metadata": {},
   "outputs": [],
   "source": [
    "from folium.plugins import MarkerCluster"
   ]
  },
  {
   "cell_type": "code",
   "execution_count": null,
   "metadata": {},
   "outputs": [],
   "source": [
    "for i in range(len(df)):\n",
    "\n",
    "    if df['상표'][i] == '현대오일뱅크':\n",
    "        color = 'blue'\n",
    "    elif df['상표'][i] == 'SK에너지':\n",
    "        color = 'red'\n",
    "    elif df['상표'][i] == 'GS칼텍스':    \n",
    "        color = 'green'\n",
    "    elif df['상표'][i] == 'S-OIL':    \n",
    "        color = 'yellow'\n",
    "    elif df['상표'][i] == '알뜰(ex)':    \n",
    "        color = 'gray'\n",
    "    elif df['상표'][i] == '알뜰주유소':    \n",
    "        color = 'white'\n",
    "    else:\n",
    "        color = 'black'  \n",
    "\n",
    "    location = (latitude[i],longitude[i])\n",
    "    # marker_cluster = MarkerCluster().add_to(m)\n",
    "    folium.Marker(location, popup=df['상호'][i], icon=folium.Icon(color = color)).add_to(m)\n",
    "\n",
    "# m.save(os.path.join('Datas', 'map.html')) # 저장하기\n",
    "m"
   ]
  },
  {
   "cell_type": "code",
   "execution_count": null,
   "metadata": {},
   "outputs": [],
   "source": []
  }
 ],
 "metadata": {
  "kernelspec": {
   "display_name": "Python 3.8.13 ('test')",
   "language": "python",
   "name": "python3"
  },
  "language_info": {
   "codemirror_mode": {
    "name": "ipython",
    "version": 3
   },
   "file_extension": ".py",
   "mimetype": "text/x-python",
   "name": "python",
   "nbconvert_exporter": "python",
   "pygments_lexer": "ipython3",
   "version": "3.8.13"
  },
  "orig_nbformat": 4,
  "vscode": {
   "interpreter": {
    "hash": "97e1d25581a04eac12591ae2002b5202d82171b363b803c6e671956903272463"
   }
  }
 },
 "nbformat": 4,
 "nbformat_minor": 2
}
