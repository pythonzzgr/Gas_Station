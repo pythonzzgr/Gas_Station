{
 "cells": [
  {
   "cell_type": "code",
   "execution_count": 1,
   "metadata": {},
   "outputs": [],
   "source": [
    "import requests\n",
    "from bs4 import BeautifulSoup as bs\n",
    "from urllib import request\n",
    "import pandas as pd\n",
    "import numpy as np"
   ]
  },
  {
   "cell_type": "code",
   "execution_count": 2,
   "metadata": {},
   "outputs": [],
   "source": [
    "data = requests.get('https://www.kpetro.or.kr/lay1/S1T602C604/contents.do')\n",
    "soup = bs(data.text, 'html.parser')\n",
    "a = soup.select('#subContent > section > div > table > tbody')\n",
    "\n",
    "list_a = [a[i].text for i in np.arange(len(a))]\n",
    "list_a = list_a[0].split( )\n",
    "# df = pd.DataFrame(list_a, columns=['제목'])\n",
    "# df\n"
   ]
  },
  {
   "cell_type": "code",
   "execution_count": 3,
   "metadata": {},
   "outputs": [],
   "source": [
    "sk = list_a[1:7]\n",
    "hyundai = list_a[8:14]\n",
    "gs = list_a[15:21]\n",
    "soil = list_a[22:28]\n",
    "seokyu = list_a[30:36]\n",
    "nonghyup = list_a[37:43]\n",
    "doro = list_a[44:50]\n",
    "sum = list_a[51:57]\n",
    "emergency = list_a[58:64]\n",
    "totalsum = list_a[65:71]"
   ]
  },
  {
   "cell_type": "code",
   "execution_count": 4,
   "metadata": {},
   "outputs": [],
   "source": [
    "\n",
    "df = pd.DataFrame(columns=['SK에너지','현대오일뱅크','GS칼텍스','S-Oil','석유공사(알뜰)','농협(알뜰)','도로공사(알뜰)','소계(알뜰)','비상표','계'])\n",
    "df['SK에너지'] = sk\n",
    "df['현대오일뱅크'] = hyundai\n",
    "df['GS칼텍스'] = gs\n",
    "df['S-Oil'] = soil\n",
    "df['석유공사(알뜰)'] = seokyu\n",
    "df['농협(알뜰)'] = nonghyup\n",
    "df['도로공사(알뜰)'] = doro\n",
    "df['소계(알뜰)'] = sum\n",
    "df['비상표'] = emergency\n",
    "df['계'] = totalsum"
   ]
  },
  {
   "cell_type": "code",
   "execution_count": 5,
   "metadata": {},
   "outputs": [
    {
     "data": {
      "text/html": [
       "<div>\n",
       "<style scoped>\n",
       "    .dataframe tbody tr th:only-of-type {\n",
       "        vertical-align: middle;\n",
       "    }\n",
       "\n",
       "    .dataframe tbody tr th {\n",
       "        vertical-align: top;\n",
       "    }\n",
       "\n",
       "    .dataframe thead th {\n",
       "        text-align: right;\n",
       "    }\n",
       "</style>\n",
       "<table border=\"1\" class=\"dataframe\">\n",
       "  <thead>\n",
       "    <tr style=\"text-align: right;\">\n",
       "      <th></th>\n",
       "      <th>SK에너지</th>\n",
       "      <th>현대오일뱅크</th>\n",
       "      <th>GS칼텍스</th>\n",
       "      <th>S-Oil</th>\n",
       "      <th>석유공사(알뜰)</th>\n",
       "      <th>농협(알뜰)</th>\n",
       "      <th>도로공사(알뜰)</th>\n",
       "      <th>소계(알뜰)</th>\n",
       "      <th>비상표</th>\n",
       "      <th>계</th>\n",
       "    </tr>\n",
       "  </thead>\n",
       "  <tbody>\n",
       "    <tr>\n",
       "      <th>0</th>\n",
       "      <td>3,676</td>\n",
       "      <td>2,242</td>\n",
       "      <td>2,504</td>\n",
       "      <td>2,075</td>\n",
       "      <td>417</td>\n",
       "      <td>550</td>\n",
       "      <td>172</td>\n",
       "      <td>1,139</td>\n",
       "      <td>371</td>\n",
       "      <td>12,007</td>\n",
       "    </tr>\n",
       "    <tr>\n",
       "      <th>1</th>\n",
       "      <td>3,503</td>\n",
       "      <td>2,221</td>\n",
       "      <td>2,437</td>\n",
       "      <td>2,150</td>\n",
       "      <td>409</td>\n",
       "      <td>584</td>\n",
       "      <td>179</td>\n",
       "      <td>1,172</td>\n",
       "      <td>267</td>\n",
       "      <td>11,750</td>\n",
       "    </tr>\n",
       "    <tr>\n",
       "      <th>2</th>\n",
       "      <td>3,469</td>\n",
       "      <td>2,249</td>\n",
       "      <td>2,404</td>\n",
       "      <td>2,156</td>\n",
       "      <td>405</td>\n",
       "      <td>597</td>\n",
       "      <td>180</td>\n",
       "      <td>1,182</td>\n",
       "      <td>240</td>\n",
       "      <td>11,700</td>\n",
       "    </tr>\n",
       "    <tr>\n",
       "      <th>3</th>\n",
       "      <td>3,118</td>\n",
       "      <td>2,492</td>\n",
       "      <td>2,365</td>\n",
       "      <td>2,184</td>\n",
       "      <td>435</td>\n",
       "      <td>620</td>\n",
       "      <td>186</td>\n",
       "      <td>1,241</td>\n",
       "      <td>189</td>\n",
       "      <td>11,589</td>\n",
       "    </tr>\n",
       "    <tr>\n",
       "      <th>4</th>\n",
       "      <td>3,042</td>\n",
       "      <td>2,444</td>\n",
       "      <td>2,272</td>\n",
       "      <td>2,172</td>\n",
       "      <td>431</td>\n",
       "      <td>640</td>\n",
       "      <td>186</td>\n",
       "      <td>1,257</td>\n",
       "      <td>191</td>\n",
       "      <td>11,378</td>\n",
       "    </tr>\n",
       "    <tr>\n",
       "      <th>5</th>\n",
       "      <td>2,987</td>\n",
       "      <td>2,400</td>\n",
       "      <td>2,192</td>\n",
       "      <td>2,153</td>\n",
       "      <td>454</td>\n",
       "      <td>654</td>\n",
       "      <td>190</td>\n",
       "      <td>1,298</td>\n",
       "      <td>167</td>\n",
       "      <td>11,197</td>\n",
       "    </tr>\n",
       "  </tbody>\n",
       "</table>\n",
       "</div>"
      ],
      "text/plain": [
       "   SK에너지 현대오일뱅크  GS칼텍스  S-Oil 석유공사(알뜰) 농협(알뜰) 도로공사(알뜰) 소계(알뜰)  비상표       계\n",
       "0  3,676  2,242  2,504  2,075      417    550      172  1,139  371  12,007\n",
       "1  3,503  2,221  2,437  2,150      409    584      179  1,172  267  11,750\n",
       "2  3,469  2,249  2,404  2,156      405    597      180  1,182  240  11,700\n",
       "3  3,118  2,492  2,365  2,184      435    620      186  1,241  189  11,589\n",
       "4  3,042  2,444  2,272  2,172      431    640      186  1,257  191  11,378\n",
       "5  2,987  2,400  2,192  2,153      454    654      190  1,298  167  11,197"
      ]
     },
     "execution_count": 5,
     "metadata": {},
     "output_type": "execute_result"
    }
   ],
   "source": [
    "df"
   ]
  },
  {
   "cell_type": "code",
   "execution_count": 6,
   "metadata": {},
   "outputs": [],
   "source": [
    "# df.to_csv('상표별 주유소 현황 2017-2022.9.csv')\n",
    "df.to_excel('상표별 주유소 현황 2017-2022.9.xlsx')"
   ]
  },
  {
   "cell_type": "code",
   "execution_count": null,
   "metadata": {},
   "outputs": [],
   "source": []
  },
  {
   "cell_type": "code",
   "execution_count": null,
   "metadata": {},
   "outputs": [],
   "source": []
  }
 ],
 "metadata": {
  "kernelspec": {
   "display_name": "Python 3.8.13 ('test')",
   "language": "python",
   "name": "python3"
  },
  "language_info": {
   "codemirror_mode": {
    "name": "ipython",
    "version": 3
   },
   "file_extension": ".py",
   "mimetype": "text/x-python",
   "name": "python",
   "nbconvert_exporter": "python",
   "pygments_lexer": "ipython3",
   "version": "3.8.13"
  },
  "orig_nbformat": 4,
  "vscode": {
   "interpreter": {
    "hash": "97e1d25581a04eac12591ae2002b5202d82171b363b803c6e671956903272463"
   }
  }
 },
 "nbformat": 4,
 "nbformat_minor": 2
}
