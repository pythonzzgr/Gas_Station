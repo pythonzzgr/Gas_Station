{
 "cells": [
  {
   "cell_type": "code",
   "execution_count": 1,
   "metadata": {},
   "outputs": [],
   "source": [
    "import requests\n",
    "from bs4 import BeautifulSoup as bs\n",
    "from urllib import request\n",
    "import pandas as pd\n",
    "import numpy as np"
   ]
  },
  {
   "cell_type": "code",
   "execution_count": null,
   "metadata": {},
   "outputs": [],
   "source": [
    "servicekey_Encoding = 'IPkrrHQzICLKgbcQ%2BaMxHbop%2FLki8HoLbmZFNJNrt7vLCi9hIg4cSl9DBEPGS6Lo4Po%2Fw%2BjczbfC9U5ZYxXxQA%3D%3D'\n",
    "servicekey_Decoding = 'IPkrrHQzICLKgbcQ+aMxHbop/Lki8HoLbmZFNJNrt7vLCi9hIg4cSl9DBEPGS6Lo4Po/w+jczbfC9U5ZYxXxQA=='\n",
    "\n",
    "\n",
    "url = f'https://bigdata.kepco.co.kr/openapi/v1/EVcharge.do?metroCd=11&cityCd=11&apiKey=xxx&returnType=json'\n",
    "params ={'metroCd' : [11,21,31], 'apiKey':100,'pageNo':1 }\n",
    "\n",
    "response = requests.get(url, params=params)\n",
    "# response = requests.get(url)\n",
    "# response.encoding = 'utf-8'\n",
    "# print(response.text)\n",
    "result =  response.text"
   ]
  }
 ],
 "metadata": {
  "kernelspec": {
   "display_name": "Python 3.8.13 ('test')",
   "language": "python",
   "name": "python3"
  },
  "language_info": {
   "codemirror_mode": {
    "name": "ipython",
    "version": 3
   },
   "file_extension": ".py",
   "mimetype": "text/x-python",
   "name": "python",
   "nbconvert_exporter": "python",
   "pygments_lexer": "ipython3",
   "version": "3.8.13"
  },
  "orig_nbformat": 4,
  "vscode": {
   "interpreter": {
    "hash": "97e1d25581a04eac12591ae2002b5202d82171b363b803c6e671956903272463"
   }
  }
 },
 "nbformat": 4,
 "nbformat_minor": 2
}
